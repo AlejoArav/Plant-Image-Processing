{
 "cells": [
  {
   "cell_type": "code",
   "execution_count": 1,
   "metadata": {},
   "outputs": [],
   "source": [
    "#Importar librerias necesarias\n",
    "\n",
    "import dnaplotlib as dpl\n",
    "import matplotlib.pyplot as plt\n",
    "from matplotlib import gridspec\n",
    "%matplotlib inline \n",
    "from skimage import io"
   ]
  },
  {
   "cell_type": "code",
   "execution_count": 2,
   "metadata": {},
   "outputs": [],
   "source": [
    "# Required for drawing shapes\n",
    "from matplotlib.patches import Polygon\n",
    "from matplotlib.lines import Line2D\n",
    "from matplotlib.patheffects import Stroke\n",
    "import matplotlib.patches as patches"
   ]
  },
  {
   "cell_type": "code",
   "execution_count": 3,
   "metadata": {},
   "outputs": [],
   "source": [
    "# Crear el renderer de dnaplotlib\n",
    "dr = dpl.DNARenderer(scale=5, linewidth=0.7)\n",
    "part_renderers = dr.SBOL_part_renderers()"
   ]
  },
  {
   "cell_type": "code",
   "execution_count": 4,
   "metadata": {},
   "outputs": [
    {
     "name": "stdout",
     "output_type": "stream",
     "text": [
      "(0.99609375, 0.2421875, 0.0)\n",
      "(0.99609375, 0.2421875, 0.0)\n"
     ]
    },
    {
     "data": {
      "text/plain": [
       "(0.996875, 0.39375000000000004, 0.2)"
      ]
     },
     "execution_count": 4,
     "metadata": {},
     "output_type": "execute_result"
    }
   ],
   "source": [
    "# Funcion para pasar colores a RGB con valores de 0 y 1\n",
    "#Para encontrar el color que quiero uso la pagina rgb.to\n",
    "\n",
    "def RGB01converter(rgbcode):\n",
    "    rgb01 = (rgbcode[0]/256,rgbcode[1]/256,rgbcode[2]/256)\n",
    "    print (rgb01)\n",
    "    return rgb01\n",
    "\n",
    "rgbcode = (255, 62, 0)\n",
    "\n",
    "RGB01converter(rgbcode)\n",
    "\n",
    "def lighten_color (col, fac):\n",
    "    r = col[0] + (fac*(1.0-col[0]))\n",
    "    g = col[1] + (fac*(1.0-col[1]))\n",
    "    b = col[2] + (fac*(1.0-col[2]))\n",
    "    return (r,g,b)\n",
    "\n",
    "lighten_color (RGB01converter(rgbcode), 0.2)"
   ]
  },
  {
   "cell_type": "code",
   "execution_count": 5,
   "metadata": {},
   "outputs": [],
   "source": [
    "# Crear el constructo programable para graficar\n",
    "letra = 10\n",
    "VENUS = (0.82421875, 0.99609375, 0.0)\n",
    "TURQ = (0.0, 0.67578125, 0.99609375)\n",
    "BFP = (0.0, 0.09765625, 0.99609375)\n",
    "CIT = (0.8359375, 0.99609375, 0.0)\n",
    "RUBY = (0.99609375, 0.0, 0.0)\n",
    "tagRFP = (0.99609375, 0.3203125, 0.0)\n",
    "TurboRFP = (0.99609375, 0.47265625, 0.0)\n",
    "deGFP = (0.0, 0.99609375, 0.046875)\n",
    "beRFP = (0.9609375, 0.0, 0.0)\n",
    "cyOFP= (0.99609375, 0.2421875, 0.0)\n",
    "prom1 = {'type':'Promoter', 'name':'prom1', 'fwd':True}\n",
    "cds1_1 = {'type':'CDS', 'name':'UNSA', 'fwd':True, 'opts':{'color':(0,0,0),   'x_extent':18,'label':'Hemme',  'label_size': 6, 'label_color':(1,1,1), 'label_x_offset':1, 'arrowhead_height':0, 'arrowhead_length':0, 'start_pad':2}}\n",
    "#cds1_2 = {'type':'CDS', 'name':'UNSB', 'fwd':True, 'opts':{'color':UNS5, 'x_extent':21,'label':'UNS5', 'label_size': letra, 'label_color':(1,1,1), 'label_x_offset':0, 'arrowhead_height':0, 'arrowhead_length':0}}\n",
    "#cds1_3 = {'type':'CDS', 'name':'UNSX', 'fwd':True, 'opts':{'color':UNSX, 'x_extent':21,'label':'UNSX', 'label_size': letra, 'label_color':(1,1,1), 'label_x_offset':0, 'arrowhead_height':0, 'arrowhead_length':0}}\n",
    "\n",
    "cds2 = {'type':'CDS', 'name':'cds2', 'fwd':True, 'opts':{'color':(0.465625, 0.209375, 0.90625) , 'label':'BASTA', 'label_color':(1,1,1), 'x_extent':42, 'label_x_offset':-2}}\n",
    "term1= {'type':'Terminator', 'name':'term1', 'fwd':True}\n",
    "\n",
    "sp = {'type':'EmptySpace', 'name':'S1', 'fwd':True, 'opts':{'x_extent':10}}"
   ]
  },
  {
   "cell_type": "code",
   "execution_count": 6,
   "metadata": {},
   "outputs": [],
   "source": [
    "# Crear el diseno base\n",
    "design1 = [sp, prom1,cds1_1, term1,sp]"
   ]
  },
  {
   "cell_type": "code",
   "execution_count": 7,
   "metadata": {},
   "outputs": [
    {
     "data": {
      "text/plain": [
       "(0.0, 67.0, -25.0, 28.0)"
      ]
     },
     "execution_count": 7,
     "metadata": {},
     "output_type": "execute_result"
    },
    {
     "data": {
      "image/png": "[encoded data removed]",
      "text/plain": [
       "<Figure size 316.8x108 with 1 Axes>"
      ]
     },
     "metadata": {},
     "output_type": "display_data"
    }
   ],
   "source": [
    "# Crear la figura\n",
    "fig = plt.figure(figsize=(4.4,1.5))\n",
    "gs = gridspec.GridSpec(1, 1)\n",
    "ax_dna = plt.subplot(gs[0])\n",
    "# Renderiar el ADN al eje\n",
    "start, end = dr.renderDNA(ax_dna, design1, part_renderers)\n",
    "ax_dna.set_xlim([start, end])\n",
    "ax_dna.set_ylim([-25,28])\n",
    "ax_dna.set_aspect('equal')\n",
    "ax_dna.set_xticks([])\n",
    "ax_dna.set_yticks([])\n",
    "ax_dna.axis('off')"
   ]
  },
  {
   "cell_type": "code",
   "execution_count": 8,
   "metadata": {},
   "outputs": [
    {
     "data": {
      "text/plain": [
       "<Figure size 432x288 with 0 Axes>"
      ]
     },
     "metadata": {},
     "output_type": "display_data"
    }
   ],
   "source": [
    "# Update subplot spacing\n",
    "plt.subplots_adjust(left=0.01, right=0.99, top=0.99, bottom=0.01)"
   ]
  },
  {
   "cell_type": "code",
   "execution_count": 9,
   "metadata": {},
   "outputs": [
    {
     "data": {
      "text/plain": [
       "<matplotlib.image.AxesImage at 0x2df5b08ca20>"
      ]
     },
     "execution_count": 9,
     "metadata": {},
     "output_type": "execute_result"
    },
    {
     "data": {
      "image/png": "[encoded data removed]",
      "text/plain": [
       "<Figure size 1200x1200 with 1 Axes>"
      ]
     },
     "metadata": {
      "needs_background": "light"
     },
     "output_type": "display_data"
    }
   ],
   "source": [
    "# Save the figure\n",
    "fig.savefig('VENUS.pdf', transparent=True)\n",
    "fig.savefig('VENUS.png', dpi=300)\n",
    "# Clear the plotting cache\n",
    "plt.close('all')\n",
    "#Solo para ver cambios realizados en el codigo mas rapido\n",
    "img = io.imread('VENUS.png')\n",
    "plt.figure(figsize=(4, 4), dpi=300)\n",
    "io.imshow(img, cmap = 'gray')"
   ]
  },
  {
   "cell_type": "code",
   "execution_count": null,
   "metadata": {},
   "outputs": [],
   "source": []
  },
  {
   "cell_type": "code",
   "execution_count": null,
   "metadata": {},
   "outputs": [],
   "source": []
  },
  {
   "cell_type": "code",
   "execution_count": null,
   "metadata": {},
   "outputs": [],
   "source": []
  },
  {
   "cell_type": "code",
   "execution_count": null,
   "metadata": {},
   "outputs": [],
   "source": []
  },
  {
   "cell_type": "code",
   "execution_count": null,
   "metadata": {},
   "outputs": [],
   "source": []
  }
 ],
 "metadata": {
  "kernelspec": {
   "display_name": "Python 3",
   "language": "python",
   "name": "python3"
  },
  "language_info": {
   "codemirror_mode": {
    "name": "ipython",
    "version": 3
   },
   "file_extension": ".py",
   "mimetype": "text/x-python",
   "name": "python",
   "nbconvert_exporter": "python",
   "pygments_lexer": "ipython3",
   "version": "3.6.12"
  }
 },
 "nbformat": 4,
 "nbformat_minor": 2
}
